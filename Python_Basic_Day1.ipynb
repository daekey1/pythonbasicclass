{
  "nbformat": 4,
  "nbformat_minor": 0,
  "metadata": {
    "colab": {
      "name": "Python Basic Day1.ipynb",
      "provenance": [],
      "authorship_tag": "ABX9TyMmAWNE+x4ddwOKP6akNuiO",
      "include_colab_link": true
    },
    "kernelspec": {
      "name": "python3",
      "display_name": "Python 3"
    },
    "language_info": {
      "name": "python"
    }
  },
  "cells": [
    {
      "cell_type": "markdown",
      "metadata": {
        "id": "view-in-github",
        "colab_type": "text"
      },
      "source": [
        "<a href=\"https://colab.research.google.com/github/daekey1/pythonbasicclass/blob/main/Python_Basic_Day1.ipynb\" target=\"_parent\"><img src=\"https://colab.research.google.com/assets/colab-badge.svg\" alt=\"Open In Colab\"/></a>"
      ]
    },
    {
      "cell_type": "code",
      "execution_count": 1,
      "metadata": {
        "colab": {
          "base_uri": "https://localhost:8080/"
        },
        "id": "qUaowQ33cUdO",
        "outputId": "e424dbad-8a8b-4d99-b574-3d5e1104d2e0"
      },
      "outputs": [
        {
          "output_type": "stream",
          "name": "stdout",
          "text": [
            "Hello World\n"
          ]
        }
      ],
      "source": [
        "print('Hello World')\n",
        "\n",
        "# 1991년 네덜란드 귀도 반 로섬에 의해 개발된 언어 \n"
      ]
    },
    {
      "cell_type": "code",
      "source": [
        "'''\n",
        "# 파일명: Ex02-1.py\n",
        "# 개요 : 반지름을 전달하면 원의 넓이를 반환 \n",
        "# 작성자 : 홍길동 \n",
        "# 작성일 : 2020\n",
        "'''\n",
        "\n",
        "# math 모듙 포함 \n",
        "import math\n",
        "def get_area(radius):\n",
        "  \"\"\"반지름을 입력받아 원의 넓이를 변환하는 get_area()함수\"\"\"\n",
        "\n",
        "   area = math.pi * math.pow(radius,2)\n",
        "   return area \n",
        "\n",
        "radius = 1.5\n",
        "# get_area() 함수 호출 결과를 area\n",
        "area = get_area(radius)\n",
        "print(area)\n",
        "print(get_area.__doc__)\n"
      ],
      "metadata": {
        "colab": {
          "base_uri": "https://localhost:8080/",
          "height": 136
        },
        "id": "LCpy1c7Gijlq",
        "outputId": "f60be72a-ba0f-47cf-ca4c-c6ac1b3243ee"
      },
      "execution_count": 8,
      "outputs": [
        {
          "output_type": "error",
          "ename": "IndentationError",
          "evalue": "ignored",
          "traceback": [
            "\u001b[0;36m  File \u001b[0;32m\"<ipython-input-8-9223e02ed3a0>\"\u001b[0;36m, line \u001b[0;32m13\u001b[0m\n\u001b[0;31m    area = math.pi * math.pow(radius,2)\u001b[0m\n\u001b[0m    ^\u001b[0m\n\u001b[0;31mIndentationError\u001b[0m\u001b[0;31m:\u001b[0m unexpected indent\n"
          ]
        }
      ]
    },
    {
      "cell_type": "code",
      "source": [
        "# 2월 14일(월) : 동영상 강의\n",
        "\n",
        "# anaconda.com   : 여기서 파이썬 관련 모든 프로그램을 깔 수 있다. \n",
        "# 구글에서 colab에서도 파이썬을 다 할 수 있다. \n",
        "# 파이썬 : 1991년 네덜란드 귀도 반 로섬에 의해 개발된 언어 본래 비단뱀이라는 뜻을 가지고 있음. 그래서 로고가 뱀그림. \n",
        "\n",
        "# 주석 처리 : #을 붙이든지, 컨트롤+/ 를 눌러주면 됨. \n",
        "\n",
        "# 파이썬의 특징\n",
        "# -컴퓨터 언어는 인터프리터와 컴파일러 두 가지로 나눈다. \n",
        "# -인터프리터 : 한줄씩 실행하는 언어. 그래서 바로 실행되는 것이 특징. \n",
        "# -파이썬은 인터프리터 언어(파이썬 R 루비)이다. 컴파일러(C, C++ 자바 등) 가 아니다. \n",
        "# -플랫퐁에 독립적이다. 맥 윈도우 등에서 다 쓸 수 있다.\n",
        "# -객체지향언어: object orient language \n",
        "# -동적 타이핑 언어 : 실행 중에 자료형을 검색할 수 있다. \n",
        "# -개발 속도가 빠르다. 라이브러리 등을 통해서 가져다 쓰면 되기 때문에 쉽다. \n",
        "\n",
        "# IDLE 기본 개발환경. 아무도 안쓴다. \n",
        "# 파이썬에서 가장 유명한 개발환경은 pycharm 이다. 다만 유료이기 때문에 잘 안쓰게 된다. \n",
        "# 개발은 팀으로 한다. 그때 파이참에서 쓰게 된다. \n",
        "# vs code 이것도 많이 쓴다. \n",
        "# 결론 : vs code 와 anaconda 를 주로 쓴다. \n",
        "# 개발환경 : 웹상에선 colab, 로컬에선 anaconda 또는 vs code를 쓴다. (강사 주장) \n",
        "\n",
        "# 주석은 매일 쓰게 됨. 코드에 설명을 작성하는 부분. 프로그램 실행에 전혀 영향을 주지 않는다. \n",
        "# 주석은 # '''주석''' \"\"\"주석\"\"\" 이렇게 쓴다. 그러나 #가 진짜 주석이다. \n",
        "\n",
        "# 여러줄을 주석처리할 때 ''' '''을 쓴다. 마치 주석처럼 쓴다. docstring 이라고 한다. 컴퓨터가 읽긴 하나 실행을 하지 않는다. \n",
        "# '''\n",
        "# 파일명: Ex02-1.py\n",
        "# 개요 : 반지름을 전달하면 원의 넓이를 반환 \n",
        "# 작성자 : 홍길동 \n",
        "# 작성일 : 2020\n",
        "# '''\n",
        "\n",
        "# (2) 변수 variable : 어떤 데이터를 저장할 때 사용되는 저장소\n",
        "# score = 100 score 라는 이름의 변수에 100을 넣는다.\n",
        "# print(score)\n",
        "\n",
        "# 변수 이름 생성 규칙\n",
        "# -영문 한글 숫자 밑줄로 구성된다. 한글은 변수명으로 사용하지 말자.\n",
        "# -특수문자는 사용할 수 없다.\n",
        "# -대문자와 소문자는 구분한다.\n",
        "# -변수명의 첫문자에는 숫자를 쓸 수 없다.\n",
        "# -예약어(예: print if 등)는 사용할 수 없다.\n",
        "# -가급적 소문자로만 만든다. 한글도 변수명으로 사용 가능하지만 쓰지 말자.\n",
        "# -가급적 의미있는 단어를 사용하자. score , sum 등.\n",
        "\n",
        "# <줄바꿈 방법>\n",
        "# (1) ''' '''을 쓴다.\n",
        "\n",
        "# address = '''우편번호 12345\n",
        "# 서울시 영등포구 여의도동\n",
        "# 서울빌딩 501호'''\n",
        "\n",
        "# (2) \\n 이용\n",
        "# '우편번호 12345 \\n서울시 영등포구 여의도동 \\n서울빌딩 501호'\n",
        "# 줄바꿈이 됨.\n",
        "\n",
        "\n",
        "# 파이썬 공부방을 만들어서 저장해둬라.\n",
        "# github,com"
      ],
      "metadata": {
        "id": "Rao4iVAH4pGj"
      },
      "execution_count": null,
      "outputs": []
    },
    {
      "cell_type": "code",
      "source": [
        ""
      ],
      "metadata": {
        "id": "N9fdvR9Ym4ty"
      },
      "execution_count": null,
      "outputs": []
    },
    {
      "cell_type": "code",
      "source": [
        "# a=100\n",
        "# A=200\n",
        "\n",
        "# print(a)\n",
        "# print(A)\n",
        "\n",
        "학교=1\n",
        "print(학교)\n",
        "\n",
        "2ㅁ=200\n",
        "print(2ㅁ)\n"
      ],
      "metadata": {
        "colab": {
          "base_uri": "https://localhost:8080/",
          "height": 136
        },
        "id": "dIt6ZEo4oJ_2",
        "outputId": "39ef9d7e-0a30-4bfb-e7c2-0e8db38f6896"
      },
      "execution_count": 14,
      "outputs": [
        {
          "output_type": "error",
          "ename": "SyntaxError",
          "evalue": "ignored",
          "traceback": [
            "\u001b[0;36m  File \u001b[0;32m\"<ipython-input-14-1dc91db58443>\"\u001b[0;36m, line \u001b[0;32m10\u001b[0m\n\u001b[0;31m    2ㅁ=200\u001b[0m\n\u001b[0m     ^\u001b[0m\n\u001b[0;31mSyntaxError\u001b[0m\u001b[0;31m:\u001b[0m invalid syntax\n"
          ]
        }
      ]
    },
    {
      "cell_type": "code",
      "source": [
        "name = 'Alice'\n",
        "age = 25\n",
        "address = '우편번호 12345\n",
        "서울시 영등포구 여의도동\n",
        "서울빌딩 501호'\n",
        "boyfriend = None\n",
        "height = 167\n",
        "print(name)\n",
        "print(age)\n",
        "print(address)\n",
        "print(boyfriend)\n",
        "print(height)\n",
        "\n",
        "\n"
      ],
      "metadata": {
        "colab": {
          "base_uri": "https://localhost:8080/",
          "height": 136
        },
        "id": "H3XVNuPioI_i",
        "outputId": "baa373d8-25a6-40c7-832d-05fcf336226e"
      },
      "execution_count": 17,
      "outputs": [
        {
          "output_type": "error",
          "ename": "SyntaxError",
          "evalue": "ignored",
          "traceback": [
            "\u001b[0;36m  File \u001b[0;32m\"<ipython-input-17-17d960fc14e8>\"\u001b[0;36m, line \u001b[0;32m3\u001b[0m\n\u001b[0;31m    address = '우편번호 12345\u001b[0m\n\u001b[0m                         ^\u001b[0m\n\u001b[0;31mSyntaxError\u001b[0m\u001b[0;31m:\u001b[0m EOL while scanning string literal\n"
          ]
        }
      ]
    }
  ]
}